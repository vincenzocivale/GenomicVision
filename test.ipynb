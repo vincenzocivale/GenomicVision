{
 "cells": [
  {
   "cell_type": "code",
   "execution_count": null,
   "id": "0a71bab8",
   "metadata": {},
   "outputs": [],
   "source": [
    "import timm \n",
    "from datasets import load_dataset, DatasetDict\n",
    "from sklearn.model_selection import train_test_split\n",
    "from transformers import  TrainingArguments\n",
    "import wandb\n",
    "import torch\n",
    "from torch import nn\n",
    "\n",
    "from src.seq2image import GenomicImageGenerator\n",
    "from src.model import inizialize_model\n",
    "from src.train import inizialize_training"
   ]
  },
  {
   "cell_type": "code",
   "execution_count": null,
   "id": "84bf76be",
   "metadata": {},
   "outputs": [],
   "source": [
    "model_name = \"timm/resnet18.a1_in1k\"\n",
    "pretrained = True\n",
    "\n",
    "input_channel = 1\n",
    "method = \"cgr\" \n",
    "\n",
    "batch_size = 128\n",
    "epochs = 50\n",
    "lr = 0.005"
   ]
  },
  {
   "cell_type": "code",
   "execution_count": null,
   "id": "7ce91e6f",
   "metadata": {},
   "outputs": [],
   "source": [
    "dataset = load_dataset(\"katarinagresova/Genomic_Benchmarks_human_nontata_promoters\")"
   ]
  },
  {
   "cell_type": "code",
   "execution_count": null,
   "id": "d596e380",
   "metadata": {},
   "outputs": [],
   "source": [
    "wandb.init(project=\"GenomicVision\")"
   ]
  },
  {
   "cell_type": "code",
   "execution_count": null,
   "id": "81e96d0d",
   "metadata": {},
   "outputs": [],
   "source": [
    "model, processor = inizialize_model(model_name=model_name, num_labels=len(set(dataset['test']['label'])), pretrained=pretrained) # type: ignore "
   ]
  },
  {
   "cell_type": "code",
   "execution_count": null,
   "id": "55df63ce",
   "metadata": {},
   "outputs": [],
   "source": [
    "generator = GenomicImageGenerator(image_size=processor.data_config[\"input_size\"][-1], sequence_col=\"seq\", label_col=\"label\")"
   ]
  },
  {
   "cell_type": "code",
   "execution_count": null,
   "id": "2c9836d9",
   "metadata": {},
   "outputs": [],
   "source": [
    "if input_channel == 1:\n",
    "    processed_datasets = DatasetDict({\n",
    "        'train': generator.generate_single_channel_dataset(dataset['train'], method), # type: ignore\n",
    "        'test': generator.generate_single_channel_dataset(dataset['test'], method) # type: ignore\n",
    "    })\n",
    "\n",
    "    run_name = f\"{model_name}_{method}_{'pretrained' if pretrained else 'not_pretrained'}\"\n",
    "\n",
    "elif input_channel == 3:\n",
    "    processed_datasets = DatasetDict({\n",
    "        'train': generator.generate_3_channel_dataset(dataset['train']), # type: ignore\n",
    "        'test': generator.generate_3_channel_dataset(dataset['test']) # type: ignore\n",
    "    })\n",
    "\n",
    "    run_name = f\"{model_name}_3channel_{'pretrained' if pretrained else 'not_pretrained'}\"\n",
    "    \n",
    "else:\n",
    "    raise ValueError(\"Input channel must be 1 or 3\")"
   ]
  },
  {
   "cell_type": "code",
   "execution_count": null,
   "id": "4258f78f",
   "metadata": {},
   "outputs": [],
   "source": [
    "def transform(examples):\n",
    "        # `examples[\"image\"]` è una lista di oggetti PIL.Image\n",
    "        # Questa funzione viene chiamata batch per batch durante l'addestramento.\n",
    "\n",
    "        # `image.convert(\"RGB\")` assicura che qualsiasi immagine,\n",
    "        # anche se a 1 canale, venga convertita in un formato a 3 canali.\n",
    "        images = [image.convert(\"RGB\") for image in examples[\"image\"]]\n",
    "        \n",
    "        # Il processore si occupa di resizing, normalizzazione e conversione in tensori PyTorch.\n",
    "        examples[\"pixel_values\"] = processor(images, return_tensors=\"pt\")[\"pixel_values\"]\n",
    "        \n",
    "        return examples"
   ]
  },
  {
   "cell_type": "code",
   "execution_count": null,
   "id": "56b306db",
   "metadata": {},
   "outputs": [
    {
     "name": "stderr",
     "output_type": "stream",
     "text": [
      "Map:  63%|██████▎   | 17000/27097 [07:01<04:14, 39.60 examples/s]"
     ]
    }
   ],
   "source": [
    "processed_datasets = processed_datasets.map(\n",
    "    transform,\n",
    "    batched=True,\n",
    "    remove_columns=['image'] \n",
    ")"
   ]
  },
  {
   "cell_type": "code",
   "execution_count": null,
   "id": "e6bda014",
   "metadata": {},
   "outputs": [],
   "source": [
    "training_args = TrainingArguments(\n",
    "    output_dir=\"/equilibrium/datasets/TCGA-histological-data/genomic_vision/results\",\n",
    "    eval_strategy=\"epoch\",\n",
    "    save_strategy=\"epoch\",\n",
    "\n",
    "    learning_rate=lr,\n",
    "    per_device_train_batch_size=batch_size,\n",
    "    per_device_eval_batch_size=batch_size,\n",
    "    num_train_epochs=epochs,\n",
    "    weight_decay=0.01,\n",
    "    load_best_model_at_end=True,\n",
    "    metric_for_best_model=\"f1\",\n",
    "    greater_is_better=True,\n",
    "    logging_steps=10,\n",
    "    report_to=\"wandb\",\n",
    "    save_total_limit=2,\n",
    "    run_name=run_name\n",
    ")"
   ]
  },
  {
   "cell_type": "code",
   "execution_count": null,
   "id": "152da6b0",
   "metadata": {},
   "outputs": [],
   "source": [
    "trainer = inizialize_training(model, training_args, processed_datasets)"
   ]
  },
  {
   "cell_type": "code",
   "execution_count": null,
   "id": "5de7fa21",
   "metadata": {},
   "outputs": [],
   "source": [
    "trainer.train()"
   ]
  },
  {
   "cell_type": "code",
   "execution_count": null,
   "id": "5dbf4e28",
   "metadata": {},
   "outputs": [],
   "source": [
    "wandb.finish()"
   ]
  }
 ],
 "metadata": {
  "kernelspec": {
   "display_name": ".venv (3.10.12)",
   "language": "python",
   "name": "python3"
  },
  "language_info": {
   "codemirror_mode": {
    "name": "ipython",
    "version": 3
   },
   "file_extension": ".py",
   "mimetype": "text/x-python",
   "name": "python",
   "nbconvert_exporter": "python",
   "pygments_lexer": "ipython3",
   "version": "3.10.12"
  }
 },
 "nbformat": 4,
 "nbformat_minor": 5
}
