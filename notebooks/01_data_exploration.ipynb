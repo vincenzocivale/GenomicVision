{
 "cells": [
  {
   "cell_type": "code",
   "execution_count": null,
   "id": "c14a9ad0",
   "metadata": {},
   "outputs": [],
   "source": [
    "import sys\n",
    "import os\n",
    "\n",
    "\n",
    "project_root = os.path.dirname(os.getcwd())\n",
    "if project_root not in sys.path:\n",
    "    sys.path.insert(0, project_root)"
   ]
  },
  {
   "cell_type": "code",
   "execution_count": null,
   "id": "9b70b370",
   "metadata": {},
   "outputs": [],
   "source": [
    "from src.data.dataset import load_hf_dataset"
   ]
  },
  {
   "cell_type": "code",
   "execution_count": null,
   "id": "95f82405",
   "metadata": {},
   "outputs": [],
   "source": [
    "dataset_id = \"katarinagresova/Genomic_Benchmarks_human_nontata_promoters\""
   ]
  },
  {
   "cell_type": "code",
   "execution_count": null,
   "id": "5827aff7",
   "metadata": {},
   "outputs": [],
   "source": [
    "dataset = load_hf_dataset(dataset_id)"
   ]
  },
  {
   "cell_type": "code",
   "execution_count": 14,
   "id": "49da67e4",
   "metadata": {},
   "outputs": [
    {
     "data": {
      "text/plain": [
       "Column([0, 0, 0, 0, 0])"
      ]
     },
     "execution_count": 14,
     "metadata": {},
     "output_type": "execute_result"
    }
   ],
   "source": [
    "dataset['train']['label']"
   ]
  }
 ],
 "metadata": {
  "kernelspec": {
   "display_name": ".venv (3.9.7)",
   "language": "python",
   "name": "python3"
  },
  "language_info": {
   "codemirror_mode": {
    "name": "ipython",
    "version": 3
   },
   "file_extension": ".py",
   "mimetype": "text/x-python",
   "name": "python",
   "nbconvert_exporter": "python",
   "pygments_lexer": "ipython3",
   "version": "3.9.7"
  }
 },
 "nbformat": 4,
 "nbformat_minor": 5
}
