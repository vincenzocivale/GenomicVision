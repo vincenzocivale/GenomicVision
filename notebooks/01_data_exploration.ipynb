{
 "cells": [
  {
   "cell_type": "code",
   "execution_count": null,
   "id": "9b70b370",
   "metadata": {},
   "outputs": [],
   "source": [
    "from src.data.dataset import load_hf_dataset\n",
    "from src.utils.eda_plot import plot_class_distribution, plot_sequence_length_distribution, plot_gc_content_distribution"
   ]
  },
  {
   "cell_type": "code",
   "execution_count": null,
   "id": "95f82405",
   "metadata": {},
   "outputs": [],
   "source": [
    "dataset_id = \"katarinagresova/Genomic_Benchmarks_human_nontata_promoters\""
   ]
  },
  {
   "cell_type": "code",
   "execution_count": null,
   "id": "5827aff7",
   "metadata": {},
   "outputs": [],
   "source": [
    "dataset = load_hf_dataset(dataset_id)"
   ]
  },
  {
   "cell_type": "code",
   "execution_count": null,
   "id": "137c87a3",
   "metadata": {},
   "outputs": [],
   "source": [
    "train_data = dataset['train']\n",
    "test_data = dataset['test']"
   ]
  },
  {
   "cell_type": "code",
   "execution_count": null,
   "id": "75375b77",
   "metadata": {},
   "outputs": [],
   "source": [
    "plot_class_distribution(train_data,  'Train Set Class Distribution')"
   ]
  },
  {
   "cell_type": "code",
   "execution_count": null,
   "id": "a31de630",
   "metadata": {},
   "outputs": [],
   "source": [
    "plot_sequence_length_distribution(train_data, 'Train Set Sequence Length Distribution')"
   ]
  }
 ],
 "metadata": {
  "kernelspec": {
   "display_name": ".venv (3.10.12)",
   "language": "python",
   "name": "python3"
  },
  "language_info": {
   "codemirror_mode": {
    "name": "ipython",
    "version": 3
   },
   "file_extension": ".py",
   "mimetype": "text/x-python",
   "name": "python",
   "nbconvert_exporter": "python",
   "pygments_lexer": "ipython3",
   "version": "3.10.12"
  }
 },
 "nbformat": 4,
 "nbformat_minor": 5
}
